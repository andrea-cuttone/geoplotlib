{
 "cells": [
  {
   "cell_type": "code",
   "execution_count": 1,
   "metadata": {},
   "outputs": [
    {
     "name": "stdout",
     "output_type": "stream",
     "text": [
      "Requirement already satisfied: folium in d:\\python36\\lib\\site-packages (0.12.1)\n",
      "Requirement already satisfied: jinja2>=2.9 in d:\\python36\\lib\\site-packages (from folium) (2.11.2)\n",
      "Requirement already satisfied: numpy in d:\\python36\\lib\\site-packages (from folium) (1.19.5)\n",
      "Requirement already satisfied: requests in d:\\python36\\lib\\site-packages (from folium) (2.25.1)\n",
      "Requirement already satisfied: branca>=0.3.0 in d:\\python36\\lib\\site-packages (from folium) (0.4.2)\n",
      "Requirement already satisfied: MarkupSafe>=0.23 in d:\\python36\\lib\\site-packages (from jinja2>=2.9->folium) (1.1.1)\n",
      "Requirement already satisfied: chardet<5,>=3.0.2 in d:\\python36\\lib\\site-packages (from requests->folium) (4.0.0)\n",
      "Requirement already satisfied: certifi>=2017.4.17 in d:\\python36\\lib\\site-packages (from requests->folium) (2020.12.5)\n",
      "Requirement already satisfied: idna<3,>=2.5 in d:\\python36\\lib\\site-packages (from requests->folium) (2.10)\n",
      "Requirement already satisfied: urllib3<1.27,>=1.21.1 in d:\\python36\\lib\\site-packages (from requests->folium) (1.26.3)\n"
     ]
    }
   ],
   "source": [
    "!pip install folium"
   ]
  },
  {
   "cell_type": "code",
   "execution_count": 5,
   "metadata": {},
   "outputs": [],
   "source": [
    "import csv\n",
    "import pandas as pd"
   ]
  },
  {
   "cell_type": "code",
   "execution_count": 8,
   "metadata": {},
   "outputs": [],
   "source": [
    "df = pd.read_csv(\"무장애여행정보.csv\",encoding='euc-kr',sep=\",\")"
   ]
  },
  {
   "cell_type": "code",
   "execution_count": 17,
   "metadata": {
    "scrolled": false
   },
   "outputs": [],
   "source": [
    "df1 = df[['위도','경도']]"
   ]
  },
  {
   "cell_type": "code",
   "execution_count": 18,
   "metadata": {
    "scrolled": true
   },
   "outputs": [
    {
     "data": {
      "text/html": [
       "<div>\n",
       "<style scoped>\n",
       "    .dataframe tbody tr th:only-of-type {\n",
       "        vertical-align: middle;\n",
       "    }\n",
       "\n",
       "    .dataframe tbody tr th {\n",
       "        vertical-align: top;\n",
       "    }\n",
       "\n",
       "    .dataframe thead th {\n",
       "        text-align: right;\n",
       "    }\n",
       "</style>\n",
       "<table border=\"1\" class=\"dataframe\">\n",
       "  <thead>\n",
       "    <tr style=\"text-align: right;\">\n",
       "      <th></th>\n",
       "      <th>위도</th>\n",
       "      <th>경도</th>\n",
       "    </tr>\n",
       "  </thead>\n",
       "  <tbody>\n",
       "    <tr>\n",
       "      <th>0</th>\n",
       "      <td>33.388837</td>\n",
       "      <td>126.240285</td>\n",
       "    </tr>\n",
       "    <tr>\n",
       "      <th>1</th>\n",
       "      <td>33.393383</td>\n",
       "      <td>126.239607</td>\n",
       "    </tr>\n",
       "    <tr>\n",
       "      <th>2</th>\n",
       "      <td>33.306025</td>\n",
       "      <td>126.806053</td>\n",
       "    </tr>\n",
       "    <tr>\n",
       "      <th>3</th>\n",
       "      <td>33.523429</td>\n",
       "      <td>126.863390</td>\n",
       "    </tr>\n",
       "    <tr>\n",
       "      <th>4</th>\n",
       "      <td>33.369970</td>\n",
       "      <td>126.206540</td>\n",
       "    </tr>\n",
       "    <tr>\n",
       "      <th>...</th>\n",
       "      <td>...</td>\n",
       "      <td>...</td>\n",
       "    </tr>\n",
       "    <tr>\n",
       "      <th>115</th>\n",
       "      <td>33.254887</td>\n",
       "      <td>126.346203</td>\n",
       "    </tr>\n",
       "    <tr>\n",
       "      <th>116</th>\n",
       "      <td>33.533174</td>\n",
       "      <td>126.842109</td>\n",
       "    </tr>\n",
       "    <tr>\n",
       "      <th>117</th>\n",
       "      <td>33.270885</td>\n",
       "      <td>126.607739</td>\n",
       "    </tr>\n",
       "    <tr>\n",
       "      <th>118</th>\n",
       "      <td>33.174438</td>\n",
       "      <td>126.270584</td>\n",
       "    </tr>\n",
       "    <tr>\n",
       "      <th>119</th>\n",
       "      <td>33.357626</td>\n",
       "      <td>126.463032</td>\n",
       "    </tr>\n",
       "  </tbody>\n",
       "</table>\n",
       "<p>120 rows × 2 columns</p>\n",
       "</div>"
      ],
      "text/plain": [
       "            위도          경도\n",
       "0    33.388837  126.240285\n",
       "1    33.393383  126.239607\n",
       "2    33.306025  126.806053\n",
       "3    33.523429  126.863390\n",
       "4    33.369970  126.206540\n",
       "..         ...         ...\n",
       "115  33.254887  126.346203\n",
       "116  33.533174  126.842109\n",
       "117  33.270885  126.607739\n",
       "118  33.174438  126.270584\n",
       "119  33.357626  126.463032\n",
       "\n",
       "[120 rows x 2 columns]"
      ]
     },
     "execution_count": 18,
     "metadata": {},
     "output_type": "execute_result"
    }
   ],
   "source": [
    "df1"
   ]
  },
  {
   "cell_type": "code",
   "execution_count": 23,
   "metadata": {},
   "outputs": [
    {
     "data": {
      "text/plain": [
       "0      33.388837\n",
       "1      33.393383\n",
       "2      33.306025\n",
       "3      33.523429\n",
       "4      33.369970\n",
       "         ...    \n",
       "115    33.254887\n",
       "116    33.533174\n",
       "117    33.270885\n",
       "118    33.174438\n",
       "119    33.357626\n",
       "Name: 위도, Length: 120, dtype: float64"
      ]
     },
     "execution_count": 23,
     "metadata": {},
     "output_type": "execute_result"
    }
   ],
   "source": []
  },
  {
   "cell_type": "code",
   "execution_count": 28,
   "metadata": {},
   "outputs": [],
   "source": [
    "a = df1['위도'][0],df1['경도'][0]\n",
    "new_list = []\n",
    "new_list.append(a)"
   ]
  },
  {
   "cell_type": "code",
   "execution_count": 39,
   "metadata": {
    "scrolled": true
   },
   "outputs": [
    {
     "name": "stdout",
     "output_type": "stream",
     "text": [
      "[[0, 0], [0, 0], [0, 0], [0, 0], [0, 0], [0, 0], [0, 0], [0, 0], [0, 0], [0, 0], [0, 0], [0, 0], [0, 0], [0, 0], [0, 0], [0, 0], [0, 0], [0, 0], [0, 0], [0, 0], [0, 0], [0, 0], [0, 0], [0, 0], [0, 0], [0, 0], [0, 0], [0, 0], [0, 0], [0, 0], [0, 0], [0, 0], [0, 0], [0, 0], [0, 0], [0, 0], [0, 0], [0, 0], [0, 0], [0, 0], [0, 0], [0, 0], [0, 0], [0, 0], [0, 0], [0, 0], [0, 0], [0, 0], [0, 0], [0, 0], [0, 0], [0, 0], [0, 0], [0, 0], [0, 0], [0, 0], [0, 0], [0, 0], [0, 0], [0, 0], [0, 0], [0, 0], [0, 0], [0, 0], [0, 0], [0, 0], [0, 0], [0, 0], [0, 0], [0, 0], [0, 0], [0, 0], [0, 0], [0, 0], [0, 0], [0, 0], [0, 0], [0, 0], [0, 0], [0, 0], [0, 0], [0, 0], [0, 0], [0, 0], [0, 0], [0, 0], [0, 0], [0, 0], [0, 0], [0, 0], [0, 0], [0, 0], [0, 0], [0, 0], [0, 0], [0, 0], [0, 0], [0, 0], [0, 0], [0, 0], [0, 0], [0, 0], [0, 0], [0, 0], [0, 0], [0, 0], [0, 0], [0, 0], [0, 0], [0, 0], [0, 0], [0, 0], [0, 0], [0, 0], [0, 0], [0, 0], [0, 0], [0, 0], [0, 0], [0, 0]]\n"
     ]
    }
   ],
   "source": [
    "a = []\n",
    "\n",
    "for i in range(120):\n",
    "    line = []\n",
    "    for j in range(2):\n",
    "        line.append(0)\n",
    "    a.append(line)\n",
    "\n",
    "print(a)"
   ]
  },
  {
   "cell_type": "code",
   "execution_count": 41,
   "metadata": {},
   "outputs": [
    {
     "data": {
      "text/plain": [
       "0"
      ]
     },
     "execution_count": 41,
     "metadata": {},
     "output_type": "execute_result"
    }
   ],
   "source": [
    "a[0][0]"
   ]
  },
  {
   "cell_type": "code",
   "execution_count": 42,
   "metadata": {},
   "outputs": [
    {
     "data": {
      "text/plain": [
       "33.38883704"
      ]
     },
     "execution_count": 42,
     "metadata": {},
     "output_type": "execute_result"
    }
   ],
   "source": [
    "df1['위도'][0]"
   ]
  },
  {
   "cell_type": "code",
   "execution_count": 45,
   "metadata": {},
   "outputs": [],
   "source": [
    "for i in range(len(df1)):\n",
    "    a[i][0] = df1['위도'][i]\n",
    "    a[i][1] = df1['경도'][i]"
   ]
  },
  {
   "cell_type": "code",
   "execution_count": 46,
   "metadata": {},
   "outputs": [
    {
     "data": {
      "text/plain": [
       "[[33.38883704, 126.24028500000001],\n",
       " [33.39338296, 126.239607],\n",
       " [33.30602501, 126.806053],\n",
       " [33.52342903, 126.86339],\n",
       " [33.36996996, 126.20653999999999],\n",
       " [33.30452397, 126.300389],\n",
       " [33.54498561, 126.67468170000001],\n",
       " [33.390182, 126.23796399999999],\n",
       " [33.46983212, 126.4923081],\n",
       " [33.43193896, 126.5969],\n",
       " [33.25016616, 126.4133496],\n",
       " [33.52615097, 126.857052],\n",
       " [33.28997366, 126.3682253],\n",
       " [33.24749501, 126.553175],\n",
       " [33.24415198, 126.559999],\n",
       " [33.29898303, 126.168056],\n",
       " [33.2378145, 126.42596850000001],\n",
       " [33.53976502, 126.63653799999999],\n",
       " [33.33828997, 126.265603],\n",
       " [33.42996703, 126.85683300000001],\n",
       " [33.54018303, 126.64089799999999],\n",
       " [33.24992702, 126.278151],\n",
       " [33.25194396, 126.32205400000001],\n",
       " [33.43970102, 126.823683],\n",
       " [33.32414241, 126.8426361],\n",
       " [33.452909999999996, 126.48848999999998],\n",
       " [33.33911802, 126.268971],\n",
       " [33.24512302, 126.42157900000001],\n",
       " [33.51296799, 126.54866200000001],\n",
       " [33.27598804, 126.30498600000001],\n",
       " [33.43964998, 126.629732],\n",
       " [33.24254198, 126.567346],\n",
       " [33.38101471, 126.84237639999999],\n",
       " [33.50213497, 126.453268],\n",
       " [33.46689887, 126.93600159999998],\n",
       " [33.31439601, 126.27309199999999],\n",
       " [33.378634000000005, 126.21641100000001],\n",
       " [33.42429391, 126.74344369999999],\n",
       " [33.472731, 126.93423600000001],\n",
       " [33.32314404, 126.166794],\n",
       " [33.22789804, 126.304892],\n",
       " [33.40732198, 126.907641],\n",
       " [33.460953, 126.915225],\n",
       " [33.30538698, 126.289953],\n",
       " [33.23665797, 126.388322],\n",
       " [33.25146628, 126.41481770000001],\n",
       " [33.44680804, 126.666576],\n",
       " [33.51865604, 126.48836599999998],\n",
       " [33.46195313, 126.31061470000002],\n",
       " [33.20508099, 126.277772],\n",
       " [33.40303204, 126.77903300000001],\n",
       " [33.39622702, 126.345033],\n",
       " [33.34284352, 126.1721081],\n",
       " [33.34312599, 126.174194],\n",
       " [33.34086296, 126.85306499999999],\n",
       " [33.473104, 126.35014299999999],\n",
       " [33.27611896, 126.170891],\n",
       " [33.47120902, 126.48778200000001],\n",
       " [33.204364, 126.28948100000001],\n",
       " [33.46817401, 126.780961],\n",
       " [33.52612599, 126.85705300000001],\n",
       " [33.45692298, 126.713742],\n",
       " [33.28289104, 126.349971],\n",
       " [33.32311696, 126.167882],\n",
       " [33.47925673, 126.7029301],\n",
       " [33.24541898, 126.57194199999999],\n",
       " [33.29190485, 126.5282318],\n",
       " [33.311345, 126.458851],\n",
       " [33.24962201, 126.562549],\n",
       " [33.32600797, 126.255045],\n",
       " [33.23899099, 126.5586632],\n",
       " [33.36348002, 126.359451],\n",
       " [33.305781599999996, 126.58492700000001],\n",
       " [33.52555904, 126.584327],\n",
       " [33.51544702, 126.528452],\n",
       " [33.434908, 126.687546],\n",
       " [33.39548598, 126.684925],\n",
       " [33.3949658, 126.68413670000001],\n",
       " [33.39555999, 126.68486999999999],\n",
       " [33.44412197, 126.89367299999999],\n",
       " [33.49148702, 126.81113300000001],\n",
       " [33.41898867, 126.2623923],\n",
       " [33.40324804, 126.67843],\n",
       " [33.55121797, 126.69361],\n",
       " [33.23955098, 126.608048],\n",
       " [33.41327297, 126.752297],\n",
       " [33.23714303, 126.515571],\n",
       " [33.44466914, 126.54912990000001],\n",
       " [33.25473371, 126.40944950000001],\n",
       " [33.50612056, 126.53053940000001],\n",
       " [33.30629599, 126.38176000000001],\n",
       " [33.20739213, 126.2906639],\n",
       " [33.4518723, 126.48826609999999],\n",
       " [33.51191397, 126.52501799999999],\n",
       " [33.44865491, 126.66161899999999],\n",
       " [33.50894703, 126.475618],\n",
       " [33.35440904, 126.24293700000001],\n",
       " [33.48701393, 126.7071114],\n",
       " [33.48916003, 126.490821],\n",
       " [33.54593997, 126.68886599999999],\n",
       " [33.27812199, 126.718671],\n",
       " [33.27352309, 126.70336259999999],\n",
       " [33.27699596, 126.718313],\n",
       " [33.55102703, 126.646813],\n",
       " [33.32779901, 126.22581000000001],\n",
       " [33.37174198, 126.85490300000001],\n",
       " [33.51598598, 126.53025500000001],\n",
       " [33.55854602, 126.75426499999999],\n",
       " [33.44690703, 126.299067],\n",
       " [33.38558896, 126.226657],\n",
       " [33.34873298, 126.35718700000001],\n",
       " [33.48399603, 126.37710200000001],\n",
       " [33.43425698, 126.92641499999999],\n",
       " [33.24813497, 126.55590900000001],\n",
       " [33.25029499, 126.555104],\n",
       " [33.25488701, 126.346203],\n",
       " [33.533174, 126.84210900000001],\n",
       " [33.27088497, 126.607739],\n",
       " [33.17443801, 126.27058400000001],\n",
       " [33.35762601, 126.46303200000001]]"
      ]
     },
     "execution_count": 46,
     "metadata": {},
     "output_type": "execute_result"
    }
   ],
   "source": [
    "a"
   ]
  },
  {
   "cell_type": "code",
   "execution_count": 48,
   "metadata": {},
   "outputs": [],
   "source": [
    "import folium"
   ]
  },
  {
   "cell_type": "code",
   "execution_count": 51,
   "metadata": {},
   "outputs": [],
   "source": [
    "m = folium.Map(location=[33.24460804,126.555626],\n",
    "              zoom_start=10,\n",
    "              titels = \"Cartodb Positron\")\n",
    "\n",
    "for i in range(len(df)):\n",
    "    folium.Circle(location=a[i],\n",
    "                 radius = 50,\n",
    "                 color = '#00000',\n",
    "                 fill = 'crimson').add_to(m)\n",
    "    \n",
    "    m.save('map.html')"
   ]
  },
  {
   "cell_type": "code",
   "execution_count": 52,
   "metadata": {},
   "outputs": [
    {
     "ename": "SyntaxError",
     "evalue": "invalid character in identifier (<ipython-input-52-aeb206ed437b>, line 1)",
     "output_type": "error",
     "traceback": [
      "\u001b[1;36m  File \u001b[1;32m\"<ipython-input-52-aeb206ed437b>\"\u001b[1;36m, line \u001b[1;32m1\u001b[0m\n\u001b[1;33m    from folium.plugins import HeatMap\u001b[0m\n\u001b[1;37m              ^\u001b[0m\n\u001b[1;31mSyntaxError\u001b[0m\u001b[1;31m:\u001b[0m invalid character in identifier\n"
     ]
    }
   ],
   "source": [
    "from folium.plugins import HeatMap \n",
    "\n",
    "m1 = folium.Map(location=[33.24460804,126.555626],\n",
    "              zoom_start=10,\n",
    "              titels = \"Cartodb Positron\")\n",
    "\n",
    "HeatMap(a).add_to(m1)\n",
    "m1.save('map.html')"
   ]
  },
  {
   "cell_type": "code",
   "execution_count": 54,
   "metadata": {},
   "outputs": [],
   "source": [
    "from folium.plugins import HeatMap"
   ]
  },
  {
   "cell_type": "code",
   "execution_count": 55,
   "metadata": {},
   "outputs": [],
   "source": [
    "m1 = folium.Map(location=[33.24460804,126.555626],\n",
    "              zoom_start=10,\n",
    "              titels = \"Cartodb Positron\")"
   ]
  },
  {
   "cell_type": "code",
   "execution_count": 56,
   "metadata": {},
   "outputs": [],
   "source": [
    "HeatMap(a).add_to(m1)\n",
    "m1.save('map1.html')"
   ]
  },
  {
   "cell_type": "code",
   "execution_count": null,
   "metadata": {},
   "outputs": [],
   "source": []
  },
  {
   "cell_type": "code",
   "execution_count": null,
   "metadata": {},
   "outputs": [],
   "source": []
  },
  {
   "cell_type": "code",
   "execution_count": null,
   "metadata": {},
   "outputs": [],
   "source": []
  },
  {
   "cell_type": "code",
   "execution_count": null,
   "metadata": {},
   "outputs": [],
   "source": []
  },
  {
   "cell_type": "code",
   "execution_count": null,
   "metadata": {},
   "outputs": [],
   "source": []
  },
  {
   "cell_type": "code",
   "execution_count": null,
   "metadata": {},
   "outputs": [],
   "source": []
  },
  {
   "cell_type": "code",
   "execution_count": null,
   "metadata": {},
   "outputs": [],
   "source": []
  }
 ],
 "metadata": {
  "kernelspec": {
   "display_name": "Python 3",
   "language": "python",
   "name": "python3"
  },
  "language_info": {
   "codemirror_mode": {
    "name": "ipython",
    "version": 3
   },
   "file_extension": ".py",
   "mimetype": "text/x-python",
   "name": "python",
   "nbconvert_exporter": "python",
   "pygments_lexer": "ipython3",
   "version": "3.6.8"
  }
 },
 "nbformat": 4,
 "nbformat_minor": 4
}
